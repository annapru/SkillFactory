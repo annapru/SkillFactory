{
 "cells": [
  {
   "cell_type": "code",
   "execution_count": 3,
   "metadata": {
    "_cell_guid": "b1076dfc-b9ad-4769-8c92-a6c4dae69d19",
    "_uuid": "8f2839f25d086af736a60e9eeb907d3b93b6e0e5",
    "colab": {},
    "colab_type": "code",
    "id": "U2D2gTdJVp90"
   },
   "outputs": [],
   "source": [
    "import numpy as np\n",
    "import pandas as pd\n",
    "import seaborn as sns\n",
    "import matplotlib.pyplot as plt\n",
    "from collections import Counter"
   ]
  },
  {
   "cell_type": "code",
   "execution_count": 150,
   "metadata": {
    "_cell_guid": "79c7e3d0-c299-4dcb-8224-4455121ee9b0",
    "_uuid": "d629ff2d2480ee46fbb7e2d37f6b5fab8052498a",
    "colab": {},
    "colab_type": "code",
    "id": "oyGfxL3eVp9-"
   },
   "outputs": [
    {
     "data": {
      "text/html": [
       "<div>\n",
       "<style scoped>\n",
       "    .dataframe tbody tr th:only-of-type {\n",
       "        vertical-align: middle;\n",
       "    }\n",
       "\n",
       "    .dataframe tbody tr th {\n",
       "        vertical-align: top;\n",
       "    }\n",
       "\n",
       "    .dataframe thead th {\n",
       "        text-align: right;\n",
       "    }\n",
       "</style>\n",
       "<table border=\"1\" class=\"dataframe\">\n",
       "  <thead>\n",
       "    <tr style=\"text-align: right;\">\n",
       "      <th></th>\n",
       "      <th>imdb_id</th>\n",
       "      <th>budget</th>\n",
       "      <th>revenue</th>\n",
       "      <th>original_title</th>\n",
       "      <th>cast</th>\n",
       "      <th>director</th>\n",
       "      <th>tagline</th>\n",
       "      <th>overview</th>\n",
       "      <th>runtime</th>\n",
       "      <th>genres</th>\n",
       "      <th>production_companies</th>\n",
       "      <th>release_date</th>\n",
       "      <th>vote_average</th>\n",
       "      <th>release_year</th>\n",
       "    </tr>\n",
       "  </thead>\n",
       "  <tbody>\n",
       "    <tr>\n",
       "      <th>1539</th>\n",
       "      <td>tt0454824</td>\n",
       "      <td>60000000</td>\n",
       "      <td>17800000</td>\n",
       "      <td>Flyboys</td>\n",
       "      <td>James Franco|Scott Hazell|Mac McDonald|Philip ...</td>\n",
       "      <td>Tony Bill</td>\n",
       "      <td>Inspired by a true story</td>\n",
       "      <td>The adventures of the Lafayette Escadrille, yo...</td>\n",
       "      <td>140</td>\n",
       "      <td>Action|Adventure|Drama|History|Romance</td>\n",
       "      <td>Ingenious Film Partners|Electric Entertainment...</td>\n",
       "      <td>9/22/2006</td>\n",
       "      <td>6.1</td>\n",
       "      <td>2006</td>\n",
       "    </tr>\n",
       "    <tr>\n",
       "      <th>1426</th>\n",
       "      <td>tt0402901</td>\n",
       "      <td>30000000</td>\n",
       "      <td>15007991</td>\n",
       "      <td>The Cave</td>\n",
       "      <td>Cole Hauser|Eddie Cibrian|Morris Chestnut|Lena...</td>\n",
       "      <td>Bruce Hunt</td>\n",
       "      <td>There are places man was never meant to go.</td>\n",
       "      <td>After a group of biologists discovers a huge n...</td>\n",
       "      <td>97</td>\n",
       "      <td>Action|Adventure|Horror|Thriller</td>\n",
       "      <td>Lakeshore Entertainment|Cinerenta Medienbeteil...</td>\n",
       "      <td>8/25/2005</td>\n",
       "      <td>5.2</td>\n",
       "      <td>2005</td>\n",
       "    </tr>\n",
       "    <tr>\n",
       "      <th>127</th>\n",
       "      <td>tt2562232</td>\n",
       "      <td>18000000</td>\n",
       "      <td>103215094</td>\n",
       "      <td>Birdman</td>\n",
       "      <td>Michael Keaton|Zach Galifianakis|Edward Norton...</td>\n",
       "      <td>Alejandro GonzÃ¡lez IÃ±Ã¡rritu</td>\n",
       "      <td>or (The Unexpected Virtue of Ignorance)</td>\n",
       "      <td>A fading actor best known for his portrayal of...</td>\n",
       "      <td>119</td>\n",
       "      <td>Drama|Comedy</td>\n",
       "      <td>Worldview Entertainment|New Regency Pictures|T...</td>\n",
       "      <td>10/17/2014</td>\n",
       "      <td>7.3</td>\n",
       "      <td>2014</td>\n",
       "    </tr>\n",
       "    <tr>\n",
       "      <th>1674</th>\n",
       "      <td>tt0480249</td>\n",
       "      <td>150000000</td>\n",
       "      <td>585349010</td>\n",
       "      <td>I Am Legend</td>\n",
       "      <td>Will Smith|Alice Braga|Charlie Tahan|Salli Ric...</td>\n",
       "      <td>Francis Lawrence</td>\n",
       "      <td>The last man on Earth is not alone</td>\n",
       "      <td>Robert Neville is a scientist who was unable t...</td>\n",
       "      <td>101</td>\n",
       "      <td>Drama|Horror|Action|Thriller|Science Fiction</td>\n",
       "      <td>Village Roadshow Pictures|Original Film|Weed R...</td>\n",
       "      <td>12/14/2007</td>\n",
       "      <td>6.8</td>\n",
       "      <td>2007</td>\n",
       "    </tr>\n",
       "    <tr>\n",
       "      <th>693</th>\n",
       "      <td>tt1000774</td>\n",
       "      <td>65000000</td>\n",
       "      <td>415252786</td>\n",
       "      <td>Sex and the City</td>\n",
       "      <td>Sarah Jessica Parker|Kim Cattrall|Cynthia Nixo...</td>\n",
       "      <td>Michael Patrick King</td>\n",
       "      <td>Get carried away.</td>\n",
       "      <td>A New York writer on sex and love is finally g...</td>\n",
       "      <td>145</td>\n",
       "      <td>Comedy|Drama|Romance</td>\n",
       "      <td>New Line Cinema|Darren Star Productions|Home B...</td>\n",
       "      <td>5/12/2008</td>\n",
       "      <td>6.1</td>\n",
       "      <td>2008</td>\n",
       "    </tr>\n",
       "  </tbody>\n",
       "</table>\n",
       "</div>"
      ],
      "text/plain": [
       "        imdb_id     budget    revenue    original_title  \\\n",
       "1539  tt0454824   60000000   17800000           Flyboys   \n",
       "1426  tt0402901   30000000   15007991          The Cave   \n",
       "127   tt2562232   18000000  103215094           Birdman   \n",
       "1674  tt0480249  150000000  585349010       I Am Legend   \n",
       "693   tt1000774   65000000  415252786  Sex and the City   \n",
       "\n",
       "                                                   cast  \\\n",
       "1539  James Franco|Scott Hazell|Mac McDonald|Philip ...   \n",
       "1426  Cole Hauser|Eddie Cibrian|Morris Chestnut|Lena...   \n",
       "127   Michael Keaton|Zach Galifianakis|Edward Norton...   \n",
       "1674  Will Smith|Alice Braga|Charlie Tahan|Salli Ric...   \n",
       "693   Sarah Jessica Parker|Kim Cattrall|Cynthia Nixo...   \n",
       "\n",
       "                            director  \\\n",
       "1539                       Tony Bill   \n",
       "1426                      Bruce Hunt   \n",
       "127   Alejandro GonzÃ¡lez IÃ±Ã¡rritu   \n",
       "1674                Francis Lawrence   \n",
       "693             Michael Patrick King   \n",
       "\n",
       "                                          tagline  \\\n",
       "1539                     Inspired by a true story   \n",
       "1426  There are places man was never meant to go.   \n",
       "127       or (The Unexpected Virtue of Ignorance)   \n",
       "1674           The last man on Earth is not alone   \n",
       "693                             Get carried away.   \n",
       "\n",
       "                                               overview  runtime  \\\n",
       "1539  The adventures of the Lafayette Escadrille, yo...      140   \n",
       "1426  After a group of biologists discovers a huge n...       97   \n",
       "127   A fading actor best known for his portrayal of...      119   \n",
       "1674  Robert Neville is a scientist who was unable t...      101   \n",
       "693   A New York writer on sex and love is finally g...      145   \n",
       "\n",
       "                                            genres  \\\n",
       "1539        Action|Adventure|Drama|History|Romance   \n",
       "1426              Action|Adventure|Horror|Thriller   \n",
       "127                                   Drama|Comedy   \n",
       "1674  Drama|Horror|Action|Thriller|Science Fiction   \n",
       "693                           Comedy|Drama|Romance   \n",
       "\n",
       "                                   production_companies release_date  \\\n",
       "1539  Ingenious Film Partners|Electric Entertainment...    9/22/2006   \n",
       "1426  Lakeshore Entertainment|Cinerenta Medienbeteil...    8/25/2005   \n",
       "127   Worldview Entertainment|New Regency Pictures|T...   10/17/2014   \n",
       "1674  Village Roadshow Pictures|Original Film|Weed R...   12/14/2007   \n",
       "693   New Line Cinema|Darren Star Productions|Home B...    5/12/2008   \n",
       "\n",
       "      vote_average  release_year  \n",
       "1539           6.1          2006  \n",
       "1426           5.2          2005  \n",
       "127            7.3          2014  \n",
       "1674           6.8          2007  \n",
       "693            6.1          2008  "
      ]
     },
     "execution_count": 150,
     "metadata": {},
     "output_type": "execute_result"
    }
   ],
   "source": [
    "data = pd.read_csv('movie_bd_v5.csv')\n",
    "data.sample(5)"
   ]
  },
  {
   "cell_type": "code",
   "execution_count": 151,
   "metadata": {
    "colab": {},
    "colab_type": "code",
    "id": "CoYUnagMVp-C"
   },
   "outputs": [
    {
     "data": {
      "text/html": [
       "<div>\n",
       "<style scoped>\n",
       "    .dataframe tbody tr th:only-of-type {\n",
       "        vertical-align: middle;\n",
       "    }\n",
       "\n",
       "    .dataframe tbody tr th {\n",
       "        vertical-align: top;\n",
       "    }\n",
       "\n",
       "    .dataframe thead th {\n",
       "        text-align: right;\n",
       "    }\n",
       "</style>\n",
       "<table border=\"1\" class=\"dataframe\">\n",
       "  <thead>\n",
       "    <tr style=\"text-align: right;\">\n",
       "      <th></th>\n",
       "      <th>budget</th>\n",
       "      <th>revenue</th>\n",
       "      <th>runtime</th>\n",
       "      <th>vote_average</th>\n",
       "      <th>release_year</th>\n",
       "    </tr>\n",
       "  </thead>\n",
       "  <tbody>\n",
       "    <tr>\n",
       "      <th>count</th>\n",
       "      <td>1.889000e+03</td>\n",
       "      <td>1.889000e+03</td>\n",
       "      <td>1889.000000</td>\n",
       "      <td>1889.000000</td>\n",
       "      <td>1889.000000</td>\n",
       "    </tr>\n",
       "    <tr>\n",
       "      <th>mean</th>\n",
       "      <td>5.431083e+07</td>\n",
       "      <td>1.553653e+08</td>\n",
       "      <td>109.658549</td>\n",
       "      <td>6.140762</td>\n",
       "      <td>2007.860773</td>\n",
       "    </tr>\n",
       "    <tr>\n",
       "      <th>std</th>\n",
       "      <td>4.858721e+07</td>\n",
       "      <td>2.146698e+08</td>\n",
       "      <td>18.017041</td>\n",
       "      <td>0.764763</td>\n",
       "      <td>4.468841</td>\n",
       "    </tr>\n",
       "    <tr>\n",
       "      <th>min</th>\n",
       "      <td>5.000000e+06</td>\n",
       "      <td>2.033165e+06</td>\n",
       "      <td>63.000000</td>\n",
       "      <td>3.300000</td>\n",
       "      <td>2000.000000</td>\n",
       "    </tr>\n",
       "    <tr>\n",
       "      <th>25%</th>\n",
       "      <td>2.000000e+07</td>\n",
       "      <td>3.456058e+07</td>\n",
       "      <td>97.000000</td>\n",
       "      <td>5.600000</td>\n",
       "      <td>2004.000000</td>\n",
       "    </tr>\n",
       "    <tr>\n",
       "      <th>50%</th>\n",
       "      <td>3.800000e+07</td>\n",
       "      <td>8.361541e+07</td>\n",
       "      <td>107.000000</td>\n",
       "      <td>6.100000</td>\n",
       "      <td>2008.000000</td>\n",
       "    </tr>\n",
       "    <tr>\n",
       "      <th>75%</th>\n",
       "      <td>7.200000e+07</td>\n",
       "      <td>1.782626e+08</td>\n",
       "      <td>120.000000</td>\n",
       "      <td>6.600000</td>\n",
       "      <td>2012.000000</td>\n",
       "    </tr>\n",
       "    <tr>\n",
       "      <th>max</th>\n",
       "      <td>3.800000e+08</td>\n",
       "      <td>2.781506e+09</td>\n",
       "      <td>214.000000</td>\n",
       "      <td>8.100000</td>\n",
       "      <td>2015.000000</td>\n",
       "    </tr>\n",
       "  </tbody>\n",
       "</table>\n",
       "</div>"
      ],
      "text/plain": [
       "             budget       revenue      runtime  vote_average  release_year\n",
       "count  1.889000e+03  1.889000e+03  1889.000000   1889.000000   1889.000000\n",
       "mean   5.431083e+07  1.553653e+08   109.658549      6.140762   2007.860773\n",
       "std    4.858721e+07  2.146698e+08    18.017041      0.764763      4.468841\n",
       "min    5.000000e+06  2.033165e+06    63.000000      3.300000   2000.000000\n",
       "25%    2.000000e+07  3.456058e+07    97.000000      5.600000   2004.000000\n",
       "50%    3.800000e+07  8.361541e+07   107.000000      6.100000   2008.000000\n",
       "75%    7.200000e+07  1.782626e+08   120.000000      6.600000   2012.000000\n",
       "max    3.800000e+08  2.781506e+09   214.000000      8.100000   2015.000000"
      ]
     },
     "execution_count": 151,
     "metadata": {},
     "output_type": "execute_result"
    }
   ],
   "source": [
    "data.describe()"
   ]
  },
  {
   "cell_type": "markdown",
   "metadata": {
    "colab_type": "text",
    "id": "DTIt7ezGVp-G"
   },
   "source": [
    "# Предобработка"
   ]
  },
  {
   "cell_type": "code",
   "execution_count": 152,
   "metadata": {
    "colab": {},
    "colab_type": "code",
    "id": "jNb40DwKVp-H"
   },
   "outputs": [],
   "source": [
    "answers = {} # создадим словарь для ответов\n",
    "\n",
    "data['profit'] = data['revenue'] - data['budget']"
   ]
  },
  {
   "cell_type": "markdown",
   "metadata": {
    "colab_type": "text",
    "id": "YxZaH-nPVp-L"
   },
   "source": [
    "# 1. У какого фильма из списка самый большой бюджет?"
   ]
  },
  {
   "cell_type": "markdown",
   "metadata": {
    "colab_type": "text",
    "id": "Nd-G5gX6Vp-M"
   },
   "source": [
    "Использовать варианты ответов в коде решения запрещено.    \n",
    "Вы думаете и в жизни у вас будут варианты ответов?)"
   ]
  },
  {
   "cell_type": "code",
   "execution_count": 153,
   "metadata": {
    "colab": {},
    "colab_type": "code",
    "id": "uVnXAY5RVp-O"
   },
   "outputs": [],
   "source": [
    "answers['1'] = 'Pirates of the Caribbean: On Stranger Tides (tt1298650)'\n",
    "# если ответили верно, можете добавить комментарий со значком \"+\"\n"
   ]
  },
  {
   "cell_type": "code",
   "execution_count": 154,
   "metadata": {
    "colab": {},
    "colab_type": "code",
    "id": "dZwb3m28Vp-S"
   },
   "outputs": [],
   "source": [
    "# тут пишем ваш код для решения данного вопроса:"
   ]
  },
  {
   "cell_type": "markdown",
   "metadata": {
    "colab_type": "text",
    "id": "K7L3nbRXVp-X"
   },
   "source": [
    "ВАРИАНТ 2"
   ]
  },
  {
   "cell_type": "code",
   "execution_count": 155,
   "metadata": {
    "colab": {},
    "colab_type": "code",
    "id": "OGaoQI7rVp-X"
   },
   "outputs": [],
   "source": [
    "# можно добавлять разные варианты решения"
   ]
  },
  {
   "cell_type": "markdown",
   "metadata": {
    "colab_type": "text",
    "id": "FNRbbI3vVp-c"
   },
   "source": [
    "# 2. Какой из фильмов самый длительный (в минутах)?"
   ]
  },
  {
   "cell_type": "code",
   "execution_count": 156,
   "metadata": {
    "colab": {},
    "colab_type": "code",
    "id": "vHAoEXNTVp-d"
   },
   "outputs": [],
   "source": [
    "# думаю логику работы с этим словарем вы уже поняли, \n",
    "# по этому не буду больше его дублировать\n",
    "answers['2'] = 'Gods and Generals (tt0279111)'"
   ]
  },
  {
   "cell_type": "code",
   "execution_count": null,
   "metadata": {
    "colab": {},
    "colab_type": "code",
    "id": "ot-VX2XrVp-g"
   },
   "outputs": [],
   "source": []
  },
  {
   "cell_type": "markdown",
   "metadata": {
    "colab_type": "text",
    "id": "bapLlpW8Vp-k"
   },
   "source": [
    "# 3. Какой из фильмов самый короткий (в минутах)?\n",
    "\n",
    "\n",
    "\n"
   ]
  },
  {
   "cell_type": "code",
   "execution_count": 157,
   "metadata": {
    "colab": {},
    "colab_type": "code",
    "id": "YBxaSHuAVp-l"
   },
   "outputs": [],
   "source": [
    "answers['3'] = 'Winnie the Pooh (tt1449283)'"
   ]
  },
  {
   "cell_type": "markdown",
   "metadata": {
    "colab_type": "text",
    "id": "TfQbxbfNVp-p"
   },
   "source": [
    "# 4. Какова средняя длительность фильмов?\n"
   ]
  },
  {
   "cell_type": "code",
   "execution_count": 158,
   "metadata": {
    "colab": {},
    "colab_type": "code",
    "id": "5K6dKZYVVp-q"
   },
   "outputs": [],
   "source": [
    "answers['4'] = '110'"
   ]
  },
  {
   "cell_type": "markdown",
   "metadata": {
    "colab_type": "text",
    "id": "r5TvbnT_Vp-u"
   },
   "source": [
    "# 5. Каково медианное значение длительности фильмов? "
   ]
  },
  {
   "cell_type": "code",
   "execution_count": 159,
   "metadata": {
    "colab": {},
    "colab_type": "code",
    "id": "iBROplKnVp-v"
   },
   "outputs": [],
   "source": [
    "answers['5'] = '107'"
   ]
  },
  {
   "cell_type": "markdown",
   "metadata": {
    "colab_type": "text",
    "id": "39P-deDSVp-y"
   },
   "source": [
    "# 6. Какой самый прибыльный фильм?\n",
    "#### Внимание! Здесь и далее под «прибылью» или «убытками» понимается разность между сборами и бюджетом фильма. (прибыль = сборы - бюджет) в нашем датасете это будет (profit = revenue - budget) "
   ]
  },
  {
   "cell_type": "code",
   "execution_count": 160,
   "metadata": {
    "colab": {},
    "colab_type": "code",
    "id": "UYZh4T9WVp-y"
   },
   "outputs": [],
   "source": [
    "# лучше код получения столбца profit вынести в Предобработку что в начале\n",
    "answers['6'] = 'Avatar (tt0499549)'"
   ]
  },
  {
   "cell_type": "markdown",
   "metadata": {
    "colab_type": "text",
    "id": "M99JmIX4Vp-2"
   },
   "source": [
    "# 7. Какой фильм самый убыточный? "
   ]
  },
  {
   "cell_type": "code",
   "execution_count": 161,
   "metadata": {
    "colab": {},
    "colab_type": "code",
    "id": "w-D2m4XPVp-3"
   },
   "outputs": [],
   "source": [
    "answers['7'] = 'The Lone Ranger (tt1210819)'"
   ]
  },
  {
   "cell_type": "markdown",
   "metadata": {
    "colab_type": "text",
    "id": "wEOM5ERVVp-6"
   },
   "source": [
    "# 8. У скольких фильмов из датасета объем сборов оказался выше бюджета?"
   ]
  },
  {
   "cell_type": "code",
   "execution_count": 162,
   "metadata": {
    "colab": {},
    "colab_type": "code",
    "id": "y00_7HD6Vp-7"
   },
   "outputs": [],
   "source": [
    "answers['8'] = '1478'"
   ]
  },
  {
   "cell_type": "markdown",
   "metadata": {
    "colab_type": "text",
    "id": "xhpspA9KVp_A"
   },
   "source": [
    "# 9. Какой фильм оказался самым кассовым в 2008 году?"
   ]
  },
  {
   "cell_type": "code",
   "execution_count": 163,
   "metadata": {
    "colab": {},
    "colab_type": "code",
    "id": "MoUyQr9RVp_B"
   },
   "outputs": [],
   "source": [
    "answers['9'] = 'The Dark Knight (tt0468569)'"
   ]
  },
  {
   "cell_type": "markdown",
   "metadata": {
    "colab_type": "text",
    "id": "Zi4hDKidVp_F"
   },
   "source": [
    "# 10. Самый убыточный фильм за период с 2012 по 2014 г. (включительно)?\n"
   ]
  },
  {
   "cell_type": "code",
   "execution_count": 164,
   "metadata": {
    "colab": {},
    "colab_type": "code",
    "id": "XqyRmufJVp_F"
   },
   "outputs": [],
   "source": [
    "answers['10'] = 'The Lone Ranger (tt1210819)'"
   ]
  },
  {
   "cell_type": "markdown",
   "metadata": {
    "colab_type": "text",
    "id": "EA7Sa9dkVp_I"
   },
   "source": [
    "# 11. Какого жанра фильмов больше всего?"
   ]
  },
  {
   "cell_type": "code",
   "execution_count": 165,
   "metadata": {
    "colab": {},
    "colab_type": "code",
    "id": "zsJAwJ8QVp_J"
   },
   "outputs": [
    {
     "data": {
      "text/plain": [
       "Comedy                                       141\n",
       "Drama                                        102\n",
       "Comedy|Romance                                60\n",
       "Drama|Romance                                 45\n",
       "Comedy|Drama|Romance                          35\n",
       "                                            ... \n",
       "Adventure|Family|Animation|Action|Comedy       1\n",
       "Documentary|Music                              1\n",
       "Adventure|Fantasy|Animation|Family             1\n",
       "Adventure|Comedy|Family|Science Fiction        1\n",
       "Animation|Family|Adventure|Comedy|Fantasy      1\n",
       "Name: genres, Length: 652, dtype: int64"
      ]
     },
     "execution_count": 165,
     "metadata": {},
     "output_type": "execute_result"
    }
   ],
   "source": [
    "# эту задачу тоже можно решать разными подходами, попробуй реализовать разные варианты\n",
    "# если будешь добавлять функцию - выноси ее в предобработку что в начале\n",
    "answers['11'] = 'Drama'\n",
    "data.genres.value_counts()\n"
   ]
  },
  {
   "cell_type": "markdown",
   "metadata": {
    "colab_type": "text",
    "id": "Ax6g2C8SVp_M"
   },
   "source": [
    "ВАРИАНТ 2"
   ]
  },
  {
   "cell_type": "code",
   "execution_count": null,
   "metadata": {
    "colab": {},
    "colab_type": "code",
    "id": "otO3SbrSVp_N"
   },
   "outputs": [],
   "source": []
  },
  {
   "cell_type": "markdown",
   "metadata": {
    "colab_type": "text",
    "id": "T9_bPWpkVp_Q"
   },
   "source": [
    "# 12. Фильмы какого жанра чаще всего становятся прибыльными? "
   ]
  },
  {
   "cell_type": "code",
   "execution_count": 166,
   "metadata": {
    "colab": {},
    "colab_type": "code",
    "id": "Tmt8MaK1Vp_R"
   },
   "outputs": [
    {
     "data": {
      "text/plain": [
       "Comedy                                121\n",
       "Drama                                  70\n",
       "Comedy|Romance                         52\n",
       "Drama|Romance                          38\n",
       "Horror|Thriller                        31\n",
       "                                     ... \n",
       "Crime|Drama|Horror|Thriller             1\n",
       "Adventure|Fantasy|Animation|Family      1\n",
       "Action|Adventure|Comedy|Thriller        1\n",
       "Horror|Action|Thriller                  1\n",
       "Drama|Crime|History                     1\n",
       "Name: genres, Length: 548, dtype: int64"
      ]
     },
     "execution_count": 166,
     "metadata": {},
     "output_type": "execute_result"
    }
   ],
   "source": [
    "answers['12'] = 'Drama'\n",
    "data[data.profit > 0].genres.value_counts()\n"
   ]
  },
  {
   "cell_type": "markdown",
   "metadata": {
    "colab_type": "text",
    "id": "0F23bgsDVp_U"
   },
   "source": [
    "# 13. У какого режиссера самые большие суммарные кассовые сбооры?"
   ]
  },
  {
   "cell_type": "code",
   "execution_count": 172,
   "metadata": {
    "colab": {},
    "colab_type": "code",
    "id": "K6Z3J8ygVp_X"
   },
   "outputs": [
    {
     "data": {
      "text/plain": [
       "director\n",
       "Peter Jackson    6490593685\n",
       "Name: revenue, dtype: int64"
      ]
     },
     "execution_count": 172,
     "metadata": {},
     "output_type": "execute_result"
    }
   ],
   "source": [
    "answers['13'] = 'Peter Jackson'\n",
    "data_director = data.groupby(\"director\").revenue.sum()\n",
    "data_director[data_director == data_director.max()]\n"
   ]
  },
  {
   "cell_type": "markdown",
   "metadata": {
    "colab_type": "text",
    "id": "PsYC9FgRVp_a"
   },
   "source": [
    "# 14. Какой режисер снял больше всего фильмов в стиле Action?"
   ]
  },
  {
   "cell_type": "code",
   "execution_count": 209,
   "metadata": {
    "colab": {},
    "colab_type": "code",
    "id": "wd2M-wHeVp_b"
   },
   "outputs": [
    {
     "data": {
      "text/plain": [
       "director\n",
       "Rob Cohen    2\n",
       "Name: genres, dtype: int64"
      ]
     },
     "execution_count": 209,
     "metadata": {},
     "output_type": "execute_result"
    }
   ],
   "source": [
    "answers['14'] = 'Robert Rodriguez'\n",
    "#НЕ РЕШИЛА\n",
    "genres_action = data[data.genres == 'Action']\n",
    "genres_action = genres_action.groupby(\"director\").genres.count()\n",
    "genres_action[genres_action == genres_action.max()]\n",
    "\n"
   ]
  },
  {
   "cell_type": "markdown",
   "metadata": {
    "colab_type": "text",
    "id": "PQ0KciD7Vp_f"
   },
   "source": [
    "# 15. Фильмы с каким актером принесли самые высокие кассовые сборы в 2012 году? "
   ]
  },
  {
   "cell_type": "code",
   "execution_count": 221,
   "metadata": {
    "colab": {},
    "colab_type": "code",
    "id": "aga62oeKVp_g"
   },
   "outputs": [
    {
     "data": {
      "text/plain": [
       "array(['Robert Downey Jr.|Chris Evans|Mark Ruffalo|Chris Hemsworth|Scarlett Johansson',\n",
       "       'Kate Beckinsale|Stephen Rea|Michael Ealy|Theo James|India Eisley',\n",
       "       'Christian Bale|Michael Caine|Gary Oldman|Anne Hathaway|Tom Hardy',\n",
       "       'Jamie Foxx|Christoph Waltz|Leonardo DiCaprio|Kerry Washington|Samuel L. Jackson',\n",
       "       'Daniel Craig|Judi Dench|Javier Bardem|Ralph Fiennes|Naomie Harris',\n",
       "       'Jeremy Renner|Rachel Weisz|Edward Norton|Scott Glenn|Stacy Keach',\n",
       "       'Ian McKellen|Martin Freeman|Richard Armitage|Andy Serkis|Cate Blanchett',\n",
       "       'Noomi Rapace|Michael Fassbender|Charlize Theron|Idris Elba|Guy Pearce',\n",
       "       'Bradley Cooper|Jennifer Lawrence|Robert De Niro|Jacki Weaver|Chris Tucker',\n",
       "       'Andrew Garfield|Emma Stone|Rhys Ifans|Denis Leary|Martin Sheen',\n",
       "       'Kelly Macdonald|Julie Walters|Billy Connolly|Emma Thompson|Kevin McKidd',\n",
       "       'Kristen Stewart|Charlize Theron|Chris Hemsworth|Sam Claflin|Ian McShane',\n",
       "       'Channing Tatum|Jonah Hill|Brie Larson|Dave Franco|Ellie Kemper',\n",
       "       'Suraj Sharma|Irrfan Khan|Ayush Tandon|Gautam Belur|Adil Hussain',\n",
       "       'John Leguizamo|Ray Romano|Chris Wedge|Denis Leary|Seann William Scott',\n",
       "       'Mark Wahlberg|Mila Kunis|Seth MacFarlane|Joel McHale|Giovanni Ribisi',\n",
       "       'Tom Cruise|Rosamund Pike|Richard Jenkins|David Oyelowo|Werner Herzog',\n",
       "       'Naomi Watts|Ewan McGregor|Tom Holland|Samuel Joslin|Oaklee Pendergast',\n",
       "       'John C. Reilly|Sarah Silverman|Jane Lynch|Jack McBrayer|Jamie Elman',\n",
       "       'Anna Kendrick|Skylar Astin|Brittany Snow|Anna Camp|Rebel Wilson',\n",
       "       'Will Smith|Tommy Lee Jones|Josh Brolin|Michael Stuhlbarg|Emma Thompson',\n",
       "       'Jennifer Lawrence|Josh Hutcherson|Liam Hemsworth|Woody Harrelson|Elizabeth Banks',\n",
       "       'Colin Farrell|Kate Beckinsale|Jessica Biel|Bryan Cranston|Bill Nighy',\n",
       "       'Tom Hanks|Halle Berry|Jim Broadbent|Hugo Weaving|Jim Sturgess',\n",
       "       'Sylvester Stallone|Jason Statham|Dolph Lundgren|Bruce Willis|Arnold Schwarzenegger',\n",
       "       'Liam Neeson|Maggie Grace|Famke Janssen|Rade Serbedzija|Luke Grimes',\n",
       "       'Johnny Depp|Michelle Pfeiffer|Helena Bonham Carter|Jackie Earle Haley|Jonny Lee Miller',\n",
       "       'Logan Lerman|Emma Watson|Ezra Miller|Paul Rudd|Nina Dobrev',\n",
       "       'Ben Affleck|Bryan Cranston|Alan Arkin|John Goodman|Victor Garber',\n",
       "       'Jason Biggs|Alyson Hannigan|Seann William Scott|Chris Klein|Thomas Ian Nicholas',\n",
       "       'Channing Tatum|Matthew McConaughey|Olivia Munn|Cody Horn|Alex Pettyfer',\n",
       "       'Kristen Connolly|Chris Hemsworth|Anna Hutchison|Fran Kranz|Jesse Williams',\n",
       "       'Chris Pine|Alec Baldwin|Jude Law|Isla Fisher|Hugh Jackman',\n",
       "       'Rachel McAdams|Channing Tatum|Sam Neill|Scott Speedman|Jessica Lange',\n",
       "       'Dwayne Johnson|Josh Hutcherson|Kristin Davis|Vanessa Hudgens|Luis GuzmÃ¡n',\n",
       "       'Jason Statham|Chris Sarandon|James Hong|Catherine Chan|Robert John Burke',\n",
       "       'Benjamin Walker|Dominic Cooper|Anthony Mackie|Mary Elizabeth Winstead|Rufus Sewell',\n",
       "       'Kirsten Dunst|Jim Sturgess|Timothy Spall|James Kidnie|Heidi Hawkins',\n",
       "       'Zac Efron|Danny DeVito|Taylor Swift|Ed Helms|Rob Riggle',\n",
       "       'Bruce Willis|Edward Norton|Jared Gilman|Kara Hayward|Bill Murray',\n",
       "       'Karl Urban|Olivia Thirlby|Lena Headey|Wood Harris|Jason Cope',\n",
       "       'Taylor Kitsch|Alexander SkarsgÃ¥rd|Rihanna|Brooklyn Decker|Tadanobu Asano',\n",
       "       'Hugh Jackman|Russell Crowe|Anne Hathaway|Amanda Seyfried|Sacha Baron Cohen',\n",
       "       'Julia Roberts|Lily Collins|Armie Hammer|Nathan Lane|Martin Klebba',\n",
       "       'Taylor Kitsch|Lynn Collins|Mark Strong|Willem Dafoe|CiarÃ¡n Hinds',\n",
       "       'Joseph Gordon-Levitt|Bruce Willis|Emily Blunt|Paul Dano|Noah Segan',\n",
       "       'Kristen Stewart|Robert Pattinson|Taylor Lautner|Peter Facinelli|Elizabeth Reaser',\n",
       "       'Jessica Chastain|Jason Clarke|Mark Strong|Joel Edgerton|Chris Pratt',\n",
       "       'Gina Carano|Ewan McGregor|Michael Fassbender|Bill Paxton|Channing Tatum',\n",
       "       'Sam Worthington|Liam Neeson|Ralph Fiennes|Rosamund Pike|Edgar RamÃ\\xadrez',\n",
       "       'Kathryn McCormick|Ryan Guzman|Stephen Boss|Megan Boone|Jessica Guadix',\n",
       "       'Dane DeHaan|Alex Russell|Michael B. Jordan|Michael Kelly|Anna Wood',\n",
       "       'Roselyn SÃ¡nchez|Emilio Rivera|Nestor Serrano|Gonzalo Menendez|Alexander Asefa',\n",
       "       'Adam Sandler|Steve Buscemi|David Spade|Kevin James|Selena Gomez',\n",
       "       'Jake Gyllenhaal|Michael PeÃ±a|Natalie Martinez|Anna Kendrick|David Harbour',\n",
       "       'Cameron Diaz|Jennifer Lopez|Elizabeth Banks|Anna Kendrick|Brooklyn Decker',\n",
       "       'Sacha Baron Cohen|Sayed Badreya|Aasif Mandvi|Megan Fox|Anna Faris',\n",
       "       'Oliver Cooper|Jonathan Daniel Brown|Thomas Mann|Dax Flame|Kirby Bliss Blanton',\n",
       "       'Mark Wahlberg|Kate Beckinsale|Ben Foster|Giovanni Ribisi|J.K. Simmons',\n",
       "       'Ben Stiller|Sacha Baron Cohen|David Schwimmer|Frances McDormand|Chris Rock',\n",
       "       'Shia LaBeouf|Tom Hardy|Guy Pearce|Jessica Chastain|Mia Wasikowska',\n",
       "       'John Cusack|Luke Evans|Alice Eve|Brendan Gleeson|Kevin McNally',\n",
       "       'Tom Cruise|Alec Baldwin|Diego Boneta|Julianne Hough|Bryan Cranston',\n",
       "       'Nicolas Cage|Malin Ã…kerman|Josh Lucas|Sami Gayle|Danny Huston',\n",
       "       'Hugh Grant|Brendan Gleeson|Jeremy Piven|Brian Blessed|Salma Hayek',\n",
       "       'Joaquin Phoenix|Philip Seymour Hoffman|Amy Adams|Laura Dern|Jesse Plemons',\n",
       "       'Emily Blunt|Alison Brie|Jason Segel|Rhys Ifans|Chris Pratt',\n",
       "       'Paul Rudd|Leslie Mann|Jason Segel|Maude Apatow|Megan Fox',\n",
       "       'Guy Pearce|Maggie Grace|Joseph Gilgun|Lennie James|Peter Stormare',\n",
       "       'Paul Rudd|Jennifer Aniston|Justin Theroux|Malin Ã…kerman|Lauren Ambrose',\n",
       "       'Daniel Radcliffe|CiarÃ¡n Hinds|Sidney Johnston|Alisa Khazanova|Mary Stockley',\n",
       "       \"Charlie Tahan|Winona Ryder|Catherine O'Hara|Martin Short|Martin Landau\",\n",
       "       'Adam Sandler|Susan Sarandon|Eva Amurri Martino|Leighton Meester|Andy Samberg',\n",
       "       'Denzel Washington|Ryan Reynolds|Vera Farmiga|Joel Kinnaman|Brendan Gleeson',\n",
       "       'Blake Lively|Taylor Kitsch|Aaron Taylor-Johnson|Benicio del Toro|Salma Hayek',\n",
       "       'Sam Worthington|Elizabeth Banks|Jamie Bell|Ed Harris|Edward Burns',\n",
       "       'Colin Farrell|Sam Rockwell|Christopher Walken|Woody Harrelson|Abbie Cornish',\n",
       "       'Drew Barrymore|John Krasinski|Kristen Bell|Vinessa Shaw|Dermot Mulroney',\n",
       "       'Jason Bateman|Hope Davis|Frank Grillo|Paula Patton|Michael Nyqvist',\n",
       "       'Chris Pine|Elizabeth Banks|Olivia Wilde|Michelle Pfeiffer|Mark Duplass',\n",
       "       'Danielle Panabaker|Matt Bush|Katrina Bowden|Jean-Luc Bilodeau|David Koechner',\n",
       "       'Jeffrey Dean Morgan|Natasha Calis|Madison Davenport|Kyra Sedgwick|Rob LaBelle',\n",
       "       'Adelaide Clemens|Kit Harington|Sean Bean|Carrie-Anne Moss|Radha Mitchell',\n",
       "       'Brad Pitt|Scoot McNairy|Ben Mendelsohn|James Gandolfini|Ray Liotta',\n",
       "       'Henry Cavill|VerÃ³nica Echegui|Sigourney Weaver|Bruce Willis|Caroline Goodall',\n",
       "       'Richard Gere|Susan Sarandon|Tim Roth|Brit Marling|Monica Raymund',\n",
       "       'Chris Hemsworth|Josh Hutcherson|Isabel Lucas|Adrianne Palicki|Jeffrey Dean Morgan',\n",
       "       'Sean Hayes|Will Sasso|Chris Diamantopoulos|SofÃ\\xada Vergara|Jane Lynch',\n",
       "       'Meryl Streep|Steve Carell|Tommy Lee Jones|Jean Smart|Marin Ireland',\n",
       "       'Eddie Murphy|Allison Janney|Cliff Curtis|Clark Duke|Kerry Washington',\n",
       "       'Tyler Perry|Rachel Nichols|Jean Reno|Matthew Fox|Giancarlo Esposito',\n",
       "       'Katherine Heigl|John Leguizamo|Debbie Reynolds|Sherri Shepherd|Patrick Fischler',\n",
       "       'Maggie Smith|Tom Courtenay|Billy Connolly|Pauline Collins|Michael Gambon',\n",
       "       'Kodi Smit-McPhee|Tucker Albrizzi|Jodelle Ferland|Anna Kendrick|Casey Affleck',\n",
       "       'Matt Damon|John Krasinski|Frances McDormand|Rosemarie DeWitt|Lucas Black',\n",
       "       'Devon Bostick|Steve Zahn|Peyton List|Rachael Harris|Zachary Gordon',\n",
       "       \"Eva Longoria|Andy GarcÃ\\xada|Oscar Isaac|Peter O'Toole|RubÃ©n Blades\",\n",
       "       'Bryan Cranston|David Oyelowo|Cuba Gooding Jr.|Daniela Ruah|Terrence Howard',\n",
       "       'Victoria Justice|Jackson Nicoll|Chelsea Handler|Josh Pence|Jane Levy',\n",
       "       'Joseph Gordon-Levitt|Michael Shannon|Dania Ramirez|Jamie Chung|WolÃ© Parks',\n",
       "       'Bradley Cooper|Zoe Saldana|Jeremy Irons|Dennis Quaid|Olivia Wilde',\n",
       "       'Katie Featherston|Kathryn Newton|Matt Shively|Brady Allen|Sprague Grayden',\n",
       "       'Kristen Stewart|Garrett Hedlund|Sam Riley|Kirsten Dunst|Tom Sturridge',\n",
       "       'Billy Crystal|Bette Midler|Marisa Tomei|Tom Everett Scott|Bailee Madison',\n",
       "       'Michael Ealy|Jerry Ferrara|Meagan Good|Regina Hall|Kevin Hart',\n",
       "       \"Bruce Willis|Josh Duhamel|Rosario Dawson|Vincent D'Onofrio|50 Cent\",\n",
       "       'Ashley Greene|Sebastian Stan|Tom Felton|Julianna Guill|Luke Pasqualino',\n",
       "       'Robert Pattinson|Sarah Gadon|Juliette Binoche|Paul Giamatti|Samantha Morton',\n",
       "       'Milla Jovovich|Sienna Guillory|Michelle Rodriguez|Aryana Engineer|Li Bingbing',\n",
       "       'Whitney Houston|Cee Lo Green|Derek Luke|Mike Epps|Carmen Ejogo',\n",
       "       'Katy Perry|Russell Brand|Shannon Woodward|Rachael Markarian|Mia Moretti'],\n",
       "      dtype=object)"
      ]
     },
     "execution_count": 221,
     "metadata": {},
     "output_type": "execute_result"
    }
   ],
   "source": [
    "answers['15'] = 'Chris Hemsworth'\n",
    "#НЕ РЕШИЛА\n",
    "data_year = data[data.release_year == 2012]\n",
    "data_year[data_year.revenue > data_year.revenue.mean()]\n",
    "data_year['cast'].unique()"
   ]
  },
  {
   "cell_type": "markdown",
   "metadata": {
    "colab_type": "text",
    "id": "mWHyyL7QVp_j"
   },
   "source": [
    "# 16. Какой актер снялся в большем количестве высокобюджетных фильмов?"
   ]
  },
  {
   "cell_type": "code",
   "execution_count": 0,
   "metadata": {
    "colab": {},
    "colab_type": "code",
    "id": "qQtmHKTFVp_k"
   },
   "outputs": [],
   "source": [
    "answers['16'] = 'Matt Damon'"
   ]
  },
  {
   "cell_type": "markdown",
   "metadata": {
    "colab_type": "text",
    "id": "NIh6AaW5Vp_n"
   },
   "source": [
    "# 17. В фильмах какого жанра больше всего снимался Nicolas Cage? "
   ]
  },
  {
   "cell_type": "code",
   "execution_count": 0,
   "metadata": {
    "colab": {},
    "colab_type": "code",
    "id": "H74SJDIBVp_n"
   },
   "outputs": [],
   "source": [
    "answers['17'] = 'Action'"
   ]
  },
  {
   "cell_type": "markdown",
   "metadata": {
    "colab_type": "text",
    "id": "RqOmPRfWVp_q"
   },
   "source": [
    "# 18. Самый убыточный фильм от Paramount Pictures"
   ]
  },
  {
   "cell_type": "code",
   "execution_count": 0,
   "metadata": {
    "colab": {},
    "colab_type": "code",
    "id": "9E_B0Y96Vp_r"
   },
   "outputs": [],
   "source": [
    "answers['18'] = ''"
   ]
  },
  {
   "cell_type": "markdown",
   "metadata": {
    "colab_type": "text",
    "id": "vS8Ur6ddVp_u"
   },
   "source": [
    "# 19. Какой год стал самым успешным по суммарным кассовым сборам?"
   ]
  },
  {
   "cell_type": "code",
   "execution_count": 0,
   "metadata": {
    "colab": {},
    "colab_type": "code",
    "id": "Dnbt4GdIVp_v"
   },
   "outputs": [],
   "source": [
    "answers['19'] = ''"
   ]
  },
  {
   "cell_type": "markdown",
   "metadata": {
    "colab_type": "text",
    "id": "JAzJh4QAVp_z"
   },
   "source": [
    "# 20. Какой самый прибыльный год для студии Warner Bros?"
   ]
  },
  {
   "cell_type": "code",
   "execution_count": 0,
   "metadata": {
    "colab": {},
    "colab_type": "code",
    "id": "wgVu02DEVp_0"
   },
   "outputs": [],
   "source": [
    "answers['20'] = ''"
   ]
  },
  {
   "cell_type": "markdown",
   "metadata": {
    "colab_type": "text",
    "id": "8Im1S2HRVp_4"
   },
   "source": [
    "# 21. В каком месяце за все годы суммарно вышло больше всего фильмов?"
   ]
  },
  {
   "cell_type": "code",
   "execution_count": 0,
   "metadata": {
    "colab": {},
    "colab_type": "code",
    "id": "lev6TH7gVp_4"
   },
   "outputs": [],
   "source": [
    "answers['21'] = ''"
   ]
  },
  {
   "cell_type": "markdown",
   "metadata": {
    "colab_type": "text",
    "id": "uAJsZ_NeVp_7"
   },
   "source": [
    "# 22. Сколько суммарно вышло фильмов летом? (за июнь, июль, август)"
   ]
  },
  {
   "cell_type": "code",
   "execution_count": 0,
   "metadata": {
    "colab": {},
    "colab_type": "code",
    "id": "Aa-hEREoVp_8"
   },
   "outputs": [],
   "source": [
    "answers['22'] = ''"
   ]
  },
  {
   "cell_type": "markdown",
   "metadata": {
    "colab_type": "text",
    "id": "G94ppOY1VqAA"
   },
   "source": [
    "# 23. Для какого режиссера зима – самое продуктивное время года? "
   ]
  },
  {
   "cell_type": "code",
   "execution_count": 0,
   "metadata": {
    "colab": {},
    "colab_type": "code",
    "id": "RhNTsamuVqAB"
   },
   "outputs": [],
   "source": [
    "answers['23'] = ''"
   ]
  },
  {
   "cell_type": "markdown",
   "metadata": {
    "colab_type": "text",
    "id": "RBo0JVjVVqAF"
   },
   "source": [
    "# 24. Какая студия дает самые длинные названия своим фильмам по количеству символов?"
   ]
  },
  {
   "cell_type": "code",
   "execution_count": 0,
   "metadata": {
    "colab": {},
    "colab_type": "code",
    "id": "QRGS8L0iVqAG"
   },
   "outputs": [],
   "source": [
    "answers['24'] = ''"
   ]
  },
  {
   "cell_type": "markdown",
   "metadata": {
    "colab_type": "text",
    "id": "9G0hbvR7VqAK"
   },
   "source": [
    "# 25. Описание фильмов какой студии в среднем самые длинные по количеству слов?"
   ]
  },
  {
   "cell_type": "code",
   "execution_count": 0,
   "metadata": {
    "colab": {},
    "colab_type": "code",
    "id": "Ge2GsLNxVqAK"
   },
   "outputs": [],
   "source": [
    "answers['25'] = ''"
   ]
  },
  {
   "cell_type": "markdown",
   "metadata": {
    "colab_type": "text",
    "id": "FJ1AFt90VqAP"
   },
   "source": [
    "# 26. Какие фильмы входят в 1 процент лучших по рейтингу? \n",
    "по vote_average"
   ]
  },
  {
   "cell_type": "code",
   "execution_count": 0,
   "metadata": {
    "colab": {},
    "colab_type": "code",
    "id": "8qmJVq4CVqAQ"
   },
   "outputs": [],
   "source": [
    "answers['26'] = ''"
   ]
  },
  {
   "cell_type": "markdown",
   "metadata": {
    "colab_type": "text",
    "id": "MdXsUXbCVqAV"
   },
   "source": [
    "# 27. Какие актеры чаще всего снимаются в одном фильме вместе?\n"
   ]
  },
  {
   "cell_type": "code",
   "execution_count": null,
   "metadata": {},
   "outputs": [],
   "source": [
    "answers['27'] = ''"
   ]
  },
  {
   "cell_type": "markdown",
   "metadata": {
    "colab_type": "text",
    "id": "4ymnxEVoVqAW"
   },
   "source": [
    "ВАРИАНТ 2"
   ]
  },
  {
   "cell_type": "markdown",
   "metadata": {
    "colab_type": "text",
    "id": "U0nONFnGVqAX"
   },
   "source": [
    "# Submission"
   ]
  },
  {
   "cell_type": "code",
   "execution_count": 81,
   "metadata": {
    "colab": {},
    "colab_type": "code",
    "id": "IfcaRO9-VqAX",
    "outputId": "0f132912-32bb-4196-c98c-abfbc4ad5a5f"
   },
   "outputs": [
    {
     "data": {
      "text/plain": [
       "{'1': 'Pirates of the Caribbean: On Stranger Tides (tt1298650)',\n",
       " '2': 'Gods and Generals (tt0279111)',\n",
       " '3': 'Winnie the Pooh (tt1449283)',\n",
       " '4': '110',\n",
       " '5': '107',\n",
       " '6': 'Avatar (tt0499549)',\n",
       " '7': 'The Lone Ranger (tt1210819)',\n",
       " '8': '1478',\n",
       " '9': 'The Dark Knight (tt0468569)',\n",
       " '10': 'The Lone Ranger (tt1210819)',\n",
       " '11': '',\n",
       " '12': '',\n",
       " '13': '',\n",
       " '14': '',\n",
       " '15': ''}"
      ]
     },
     "execution_count": 81,
     "metadata": {},
     "output_type": "execute_result"
    }
   ],
   "source": [
    "# в конце можно посмотреть свои ответы к каждому вопросу\n",
    "answers"
   ]
  },
  {
   "cell_type": "code",
   "execution_count": 82,
   "metadata": {
    "colab": {},
    "colab_type": "code",
    "id": "SiRmHPl8VqAd"
   },
   "outputs": [
    {
     "data": {
      "text/plain": [
       "15"
      ]
     },
     "execution_count": 82,
     "metadata": {},
     "output_type": "execute_result"
    }
   ],
   "source": [
    "# и убедиться что ни чего не пропустил)\n",
    "len(answers)"
   ]
  },
  {
   "cell_type": "code",
   "execution_count": 0,
   "metadata": {
    "colab": {},
    "colab_type": "code",
    "id": "uCfuTkRbVqAg"
   },
   "outputs": [],
   "source": []
  },
  {
   "cell_type": "code",
   "execution_count": 0,
   "metadata": {
    "colab": {},
    "colab_type": "code",
    "id": "Vwx3NrkSVqAl"
   },
   "outputs": [],
   "source": []
  }
 ],
 "metadata": {
  "colab": {
   "name": "Copy of [SF-DST] Movies IMBD v4.1 TEMPLATE.ipynb",
   "provenance": []
  },
  "kernelspec": {
   "display_name": "Python 3",
   "language": "python",
   "name": "python3"
  },
  "language_info": {
   "codemirror_mode": {
    "name": "ipython",
    "version": 3
   },
   "file_extension": ".py",
   "mimetype": "text/x-python",
   "name": "python",
   "nbconvert_exporter": "python",
   "pygments_lexer": "ipython3",
   "version": "3.7.6"
  }
 },
 "nbformat": 4,
 "nbformat_minor": 1
}
